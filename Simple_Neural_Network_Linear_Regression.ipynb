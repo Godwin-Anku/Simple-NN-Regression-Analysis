{
  "nbformat": 4,
  "nbformat_minor": 0,
  "metadata": {
    "colab": {
      "provenance": [],
      "authorship_tag": "ABX9TyOXLjFYcg8SSF9aS2fhOtTW",
      "include_colab_link": true
    },
    "kernelspec": {
      "name": "python3",
      "display_name": "Python 3"
    },
    "language_info": {
      "name": "python"
    }
  },
  "cells": [
    {
      "cell_type": "markdown",
      "metadata": {
        "id": "view-in-github",
        "colab_type": "text"
      },
      "source": [
        "<a href=\"https://colab.research.google.com/github/Godwin-Anku/Simple-Neural-Network---Regression-Analysis/blob/main/Simple_Neural_Network_Linear_Regression.ipynb\" target=\"_parent\"><img src=\"https://colab.research.google.com/assets/colab-badge.svg\" alt=\"Open In Colab\"/></a>"
      ]
    },
    {
      "cell_type": "code",
      "execution_count": null,
      "metadata": {
        "id": "WWAX0ZRJIYsw"
      },
      "outputs": [],
      "source": [
        "from tensorflow.keras.models import Sequential\n",
        "from tensorflow.keras import layers\n",
        "from tensorflow.keras.layers import Dense, Activation, Input\n",
        "from tensorflow.keras.datasets import boston_housing\n",
        "import matplotlib.pyplot as plt\n",
        "\n",
        "import tensorflow as tf\n",
        "import numpy as np"
      ]
    },
    {
      "cell_type": "code",
      "source": [
        "SEED_VALUE = 42\n",
        "np.random.seed(SEED_VALUE)\n",
        "tf.random.set_seed(SEED_VALUE)"
      ],
      "metadata": {
        "id": "mIIhuJs5JSNs"
      },
      "execution_count": null,
      "outputs": []
    },
    {
      "cell_type": "code",
      "source": [
        "(X_train, y_train), (X_test, y_test) = boston_housing.load_data()"
      ],
      "metadata": {
        "id": "Ik9UZSQRJpl0"
      },
      "execution_count": null,
      "outputs": []
    },
    {
      "cell_type": "code",
      "source": [
        "print(f'Training data dimesions: {X_train.shape}')\n",
        "print('\\n')\n",
        "print(f'Target training data dimensions: {y_train.shape}')\n",
        "print('\\n')\n",
        "print(f'Testing data dimension: {X_test.shape}')\n",
        "print('\\n')\n",
        "print(f'Target test data dimensions: {y_test.shape}')"
      ],
      "metadata": {
        "colab": {
          "base_uri": "https://localhost:8080/"
        },
        "id": "75A4f6nTJ3W_",
        "outputId": "bd868d9c-0d1a-4990-8e63-983941c90535"
      },
      "execution_count": null,
      "outputs": [
        {
          "output_type": "stream",
          "name": "stdout",
          "text": [
            "Training data dimesions: (404, 13)\n",
            "\n",
            "\n",
            "Target training data dimensions: (404,)\n",
            "\n",
            "\n",
            "Testing data dimension: (102, 13)\n",
            "\n",
            "\n",
            "Target test data dimensions: (102,)\n"
          ]
        }
      ]
    },
    {
      "cell_type": "code",
      "source": [
        "X_train[0]"
      ],
      "metadata": {
        "colab": {
          "base_uri": "https://localhost:8080/"
        },
        "id": "RcHF5KRqKcYj",
        "outputId": "d25a6755-a1a8-463c-de11-838e64b01758"
      },
      "execution_count": null,
      "outputs": [
        {
          "output_type": "execute_result",
          "data": {
            "text/plain": [
              "array([  1.23247,   0.     ,   8.14   ,   0.     ,   0.538  ,   6.142  ,\n",
              "        91.7    ,   3.9769 ,   4.     , 307.     ,  21.     , 396.9    ,\n",
              "        18.72   ])"
            ]
          },
          "metadata": {},
          "execution_count": 245
        }
      ]
    },
    {
      "cell_type": "code",
      "source": [
        "y_train[0]"
      ],
      "metadata": {
        "colab": {
          "base_uri": "https://localhost:8080/"
        },
        "id": "9ELpX0NsKnBu",
        "outputId": "1828b22c-cd9e-48fb-bb76-500e1980c7f3"
      },
      "execution_count": null,
      "outputs": [
        {
          "output_type": "execute_result",
          "data": {
            "text/plain": [
              "15.2"
            ]
          },
          "metadata": {},
          "execution_count": 246
        }
      ]
    },
    {
      "cell_type": "code",
      "source": [
        "X_test[0]"
      ],
      "metadata": {
        "colab": {
          "base_uri": "https://localhost:8080/"
        },
        "id": "u6I1yHaHKqVm",
        "outputId": "f6c1e871-37b0-456d-e218-e4b5d58bd1c6"
      },
      "execution_count": null,
      "outputs": [
        {
          "output_type": "execute_result",
          "data": {
            "text/plain": [
              "array([ 18.0846,   0.    ,  18.1   ,   0.    ,   0.679 ,   6.434 ,\n",
              "       100.    ,   1.8347,  24.    , 666.    ,  20.2   ,  27.25  ,\n",
              "        29.05  ])"
            ]
          },
          "metadata": {},
          "execution_count": 247
        }
      ]
    },
    {
      "cell_type": "code",
      "source": [
        "y_test[0]"
      ],
      "metadata": {
        "colab": {
          "base_uri": "https://localhost:8080/"
        },
        "id": "CFCOl5ADKzci",
        "outputId": "dc2c3a23-44d9-416e-e8d6-ba389ad028d9"
      },
      "execution_count": null,
      "outputs": [
        {
          "output_type": "execute_result",
          "data": {
            "text/plain": [
              "7.2"
            ]
          },
          "metadata": {},
          "execution_count": 248
        }
      ]
    },
    {
      "cell_type": "code",
      "source": [
        "boston_feature = {'Average Number of Rooms': 5}\n",
        "X_train_1D = X_train[:, boston_feature['Average Number of Rooms']]\n",
        "X_train_1D"
      ],
      "metadata": {
        "colab": {
          "base_uri": "https://localhost:8080/"
        },
        "id": "GK1WdO8aK1R6",
        "outputId": "4b518795-ef6f-4a88-8f4c-95e2331d1bd9"
      },
      "execution_count": null,
      "outputs": [
        {
          "output_type": "execute_result",
          "data": {
            "text/plain": [
              "array([6.142, 7.61 , 4.97 , 6.037, 6.376, 5.708, 5.536, 5.468, 5.628,\n",
              "       5.019, 6.404, 4.628, 5.572, 6.251, 5.613, 5.957, 7.016, 6.345,\n",
              "       6.162, 6.727, 6.202, 6.595, 7.135, 6.575, 5.895, 6.794, 6.012,\n",
              "       7.185, 5.813, 5.569, 6.315, 6.297, 6.301, 5.935, 7.024, 6.415,\n",
              "       5.599, 5.701, 6.041, 6.279, 5.454, 6.211, 6.316, 6.411, 5.887,\n",
              "       5.924, 5.822, 6.674, 6.842, 5.713, 5.968, 6.461, 7.358, 6.565,\n",
              "       5.88 , 5.87 , 6.348, 6.193, 6.854, 6.546, 6.004, 6.538, 6.185,\n",
              "       5.836, 6.525, 6.436, 5.757, 5.818, 5.852, 5.404, 5.682, 6.629,\n",
              "       7.178, 5.914, 6.096, 5.631, 5.896, 5.637, 5.966, 5.403, 6.678,\n",
              "       7.47 , 5.456, 6.453, 6.372, 6.31 , 6.405, 7.853, 4.926, 6.103,\n",
              "       6.75 , 8.034, 6.009, 7.765, 8.069, 6.358, 6.975, 6.015, 6.8  ,\n",
              "       6.43 , 7.645, 8.337, 6.113, 6.77 , 5.757, 6.487, 6.162, 6.069,\n",
              "       5.565, 5.96 , 6.229, 7.929, 6.715, 5.39 , 6.383, 7.147, 6.006,\n",
              "       6.004, 5.928, 5.936, 6.315, 5.727, 6.152, 7.454, 6.968, 5.95 ,\n",
              "       6.232, 6.951, 7.014, 6.49 , 5.786, 5.731, 7.412, 6.782, 5.67 ,\n",
              "       5.879, 6.545, 8.704, 5.927, 5.683, 5.399, 6.474, 6.193, 6.326,\n",
              "       6.976, 6.433, 6.762, 6.167, 6.657, 6.431, 5.936, 6.939, 6.163,\n",
              "       6.03 , 5.891, 5.404, 5.531, 6.481, 3.863, 5.807, 6.226, 7.007,\n",
              "       6.495, 7.691, 6.516, 5.608, 6.059, 6.393, 6.727, 5.983, 6.549,\n",
              "       6.416, 5.905, 5.663, 5.889, 6.454, 6.824, 6.169, 6.13 , 6.456,\n",
              "       6.219, 5.92 , 7.163, 6.739, 5.874, 4.368, 6.021, 6.023, 6.382,\n",
              "       6.373, 6.047, 8.398, 5.859, 7.42 , 5.856, 5.57 , 7.088, 6.38 ,\n",
              "       5.998, 5.933, 6.619, 4.903, 6.606, 5.56 , 5.965, 6.484, 6.749,\n",
              "       6.083, 5.872, 5.707, 5.604, 6.728, 6.579, 6.319, 5.52 , 6.482,\n",
              "       5.85 , 5.851, 6.51 , 6.567, 7.393, 5.39 , 5.961, 5.834, 6.398,\n",
              "       6.998, 6.861, 6.209, 6.066, 3.561, 6.982, 5.693, 5.888, 8.247,\n",
              "       6.442, 6.635, 5.272, 5.976, 6.112, 7.313, 5.012, 4.652, 6.086,\n",
              "       6.254, 6.164, 5.869, 7.267, 6.051, 5.453, 5.926, 5.713, 6.402,\n",
              "       6.223, 6.649, 5.155, 6.129, 6.095, 6.86 , 5.617, 7.148, 7.82 ,\n",
              "       5.186, 6.02 , 7.041, 6.405, 6.431, 5.875, 7.274, 6.23 , 6.211,\n",
              "       6.152, 6.302, 6.849, 6.312, 6.286, 6.426, 7.327, 6.718, 5.594,\n",
              "       7.155, 5.99 , 5.344, 5.349, 6.696, 5.935, 4.906, 5.277, 6.208,\n",
              "       6.406, 6.266, 6.216, 6.425, 6.127, 6.12 , 5.986, 6.249, 7.206,\n",
              "       5.747, 6.871, 5.854, 4.963, 5.856, 5.888, 6.144, 6.341, 6.096,\n",
              "       7.287, 5.762, 5.963, 6.816, 6.438, 5.787, 6.065, 6.782, 8.266,\n",
              "       6.027, 6.092, 8.725, 7.875, 6.317, 6.167, 5.875, 5.898, 5.362,\n",
              "       6.137, 6.943, 5.949, 6.115, 5.427, 6.54 , 6.389, 5.871, 6.552,\n",
              "       6.145, 5.803, 6.174, 7.203, 7.236, 5.627, 5.794, 5.741, 6.003,\n",
              "       6.726, 6.618, 8.375, 7.489, 6.59 , 4.138, 8.04 , 7.923, 5.854,\n",
              "       6.14 , 6.29 , 6.63 , 6.683, 5.868, 6.127, 6.333, 6.655, 6.195,\n",
              "       6.458, 7.82 , 5.972, 7.416, 5.759, 5.783, 7.241, 6.794, 5.706,\n",
              "       5.952, 6.377, 4.973, 6.631, 5.412, 6.642, 6.98 , 6.417, 6.701,\n",
              "       6.511, 6.556, 6.122, 5.942, 6.335, 7.107, 6.014, 5.966, 6.251,\n",
              "       6.781, 7.079, 5.857, 5.304, 6.064, 6.312, 6.081, 6.212, 4.519,\n",
              "       6.459, 6.326, 4.138, 5.602, 6.24 , 6.031, 5.709, 6.604])"
            ]
          },
          "metadata": {},
          "execution_count": 249
        }
      ]
    },
    {
      "cell_type": "code",
      "source": [
        "X_test_1D = X_test[:, boston_feature['Average Number of Rooms']]\n",
        "X_test_1D"
      ],
      "metadata": {
        "colab": {
          "base_uri": "https://localhost:8080/"
        },
        "id": "HR_gd21TLfEO",
        "outputId": "1b1f1aea-8a94-417a-e6c8-cfb3c8ea63ff"
      },
      "execution_count": null,
      "outputs": [
        {
          "output_type": "execute_result",
          "data": {
            "text/plain": [
              "array([6.434, 5.913, 5.985, 6.25 , 6.121, 5.926, 6.874, 6.167, 5.961,\n",
              "       6.437, 6.405, 6.072, 6.151, 7.831, 5.648, 6.108, 6.417, 6.144,\n",
              "       6.114, 6.127, 5.304, 5.837, 5.841, 5.605, 5.876, 6.242, 6.879,\n",
              "       6.728, 6.38 , 5.878, 6.176, 6.833, 6.826, 6.245, 5.713, 5.   ,\n",
              "       5.597, 5.877, 5.983, 6.635, 7.104, 6.625, 6.185, 7.686, 6.563,\n",
              "       6.153, 6.616, 5.782, 6.513, 6.182, 7.249, 5.79 , 5.036, 5.813,\n",
              "       7.185, 6.63 , 6.343, 8.297, 6.758, 6.421, 6.98 , 6.471, 6.852,\n",
              "       6.019, 6.376, 6.108, 6.417, 6.209, 5.093, 5.987, 6.395, 6.957,\n",
              "       6.229, 5.414, 6.495, 6.009, 5.885, 6.375, 6.968, 4.88 , 5.981,\n",
              "       7.52 , 5.593, 6.485, 5.705, 6.172, 6.229, 5.951, 6.593, 7.061,\n",
              "       6.03 , 5.884, 6.897, 8.259, 6.812, 6.122, 7.333, 8.78 , 6.273,\n",
              "       7.802, 6.951, 6.101])"
            ]
          },
          "metadata": {},
          "execution_count": 250
        }
      ]
    },
    {
      "cell_type": "code",
      "source": [
        "print(f'X-Train 1D dimension: {X_train_1D.shape}')\n",
        "print(f'X-Test 1D dimension: {X_test_1D.shape}')"
      ],
      "metadata": {
        "colab": {
          "base_uri": "https://localhost:8080/"
        },
        "id": "euFGffQmMMno",
        "outputId": "2ea19206-0f4e-4b39-ebb8-8524147a2b9f"
      },
      "execution_count": null,
      "outputs": [
        {
          "output_type": "stream",
          "name": "stdout",
          "text": [
            "X-Train 1D dimension: (404,)\n",
            "X-Test 1D dimension: (102,)\n"
          ]
        }
      ]
    },
    {
      "cell_type": "code",
      "source": [
        "def plot_initial_analysis(xdata, ydata, color, title, legend):\n",
        "  plt.figure(figsize = (15, 6))\n",
        "  plt.scatter(xdata, ydata, color = color, alpha = 0.7)\n",
        "  plt.grid(True)\n",
        "  plt.xlabel('Average Number of Rooms')\n",
        "  plt.ylabel('Median Price [$K]')\n",
        "  plt.title(title)\n",
        "  plt.legend(legend)\n",
        "  plt.show()"
      ],
      "metadata": {
        "id": "iBPwNXU6Mr4H"
      },
      "execution_count": null,
      "outputs": []
    },
    {
      "cell_type": "code",
      "source": [
        "plot_initial_analysis(xdata = X_train_1D, ydata = y_train, color = 'g', title = 'Training', legend = 'Training Data')"
      ],
      "metadata": {
        "colab": {
          "base_uri": "https://localhost:8080/",
          "height": 564
        },
        "id": "b7bz5vaTOUYE",
        "outputId": "3f711a0f-4a73-4930-a42f-73b49db500f3"
      },
      "execution_count": null,
      "outputs": [
        {
          "output_type": "display_data",
          "data": {
            "text/plain": [
              "<Figure size 1500x600 with 1 Axes>"
            ],
            "image/png": "[encoded data removed]"
          },
          "metadata": {}
        }
      ]
    },
    {
      "cell_type": "code",
      "source": [
        "plot_initial_analysis(X_test_1D, y_test, 'b', 'Testing', 'Testing Data')"
      ],
      "metadata": {
        "colab": {
          "base_uri": "https://localhost:8080/",
          "height": 564
        },
        "id": "bwQG_nh4O1F7",
        "outputId": "93436cfc-d4f5-4461-9211-7bd21421c40c"
      },
      "execution_count": null,
      "outputs": [
        {
          "output_type": "display_data",
          "data": {
            "text/plain": [
              "<Figure size 1500x600 with 1 Axes>"
            ],
            "image/png": "[encoded data removed]"
          },
          "metadata": {}
        }
      ]
    },
    {
      "cell_type": "code",
      "source": [
        "model = Sequential()\n",
        "model.add(Dense(units = 1, input_shape = (1, )))\n",
        "model.summary()"
      ],
      "metadata": {
        "colab": {
          "base_uri": "https://localhost:8080/"
        },
        "id": "y7u-Mr4XQq8U",
        "outputId": "6d95461a-2fd3-4168-dd5b-d04a9998550e"
      },
      "execution_count": null,
      "outputs": [
        {
          "output_type": "stream",
          "name": "stdout",
          "text": [
            "Model: \"sequential_5\"\n",
            "_________________________________________________________________\n",
            " Layer (type)                Output Shape              Param #   \n",
            "=================================================================\n",
            " dense_5 (Dense)             (None, 1)                 2         \n",
            "                                                                 \n",
            "=================================================================\n",
            "Total params: 2 (8.00 Byte)\n",
            "Trainable params: 2 (8.00 Byte)\n",
            "Non-trainable params: 0 (0.00 Byte)\n",
            "_________________________________________________________________\n"
          ]
        }
      ]
    },
    {
      "cell_type": "code",
      "source": [
        "model.compile(optimizer = tf.keras.optimizers.RMSprop(learning_rate = 0.005), loss = 'mae')"
      ],
      "metadata": {
        "id": "N7MnyOImSIic"
      },
      "execution_count": null,
      "outputs": []
    },
    {
      "cell_type": "code",
      "source": [
        "history = model.fit(X_train_1D, y_train, batch_size = 16, epochs = 201, validation_split = 0.3)"
      ],
      "metadata": {
        "colab": {
          "base_uri": "https://localhost:8080/"
        },
        "id": "M26J1UfGU9g0",
        "outputId": "896a7a85-1d49-48c8-b3ce-21e16712347d"
      },
      "execution_count": null,
      "outputs": [
        {
          "output_type": "stream",
          "name": "stdout",
          "text": [
            "Epoch 1/201\n",
            "18/18 [==============================] - 0s 10ms/step - loss: 15.1941 - val_loss: 16.1388\n",
            "Epoch 2/201\n",
            "18/18 [==============================] - 0s 4ms/step - loss: 14.4586 - val_loss: 15.4754\n",
            "Epoch 3/201\n",
            "18/18 [==============================] - 0s 3ms/step - loss: 13.8143 - val_loss: 14.8348\n",
            "Epoch 4/201\n",
            "18/18 [==============================] - 0s 4ms/step - loss: 13.1833 - val_loss: 14.2126\n",
            "Epoch 5/201\n",
            "18/18 [==============================] - 0s 4ms/step - loss: 12.5665 - val_loss: 13.6106\n",
            "Epoch 6/201\n",
            "18/18 [==============================] - 0s 3ms/step - loss: 11.9656 - val_loss: 13.0246\n",
            "Epoch 7/201\n",
            "18/18 [==============================] - 0s 3ms/step - loss: 11.3749 - val_loss: 12.4375\n",
            "Epoch 8/201\n",
            "18/18 [==============================] - 0s 4ms/step - loss: 10.7901 - val_loss: 11.8643\n",
            "Epoch 9/201\n",
            "18/18 [==============================] - 0s 4ms/step - loss: 10.2202 - val_loss: 11.3137\n",
            "Epoch 10/201\n",
            "18/18 [==============================] - 0s 4ms/step - loss: 9.6638 - val_loss: 10.7754\n",
            "Epoch 11/201\n",
            "18/18 [==============================] - 0s 3ms/step - loss: 9.1484 - val_loss: 10.2601\n",
            "Epoch 12/201\n",
            "18/18 [==============================] - 0s 3ms/step - loss: 8.6727 - val_loss: 9.7532\n",
            "Epoch 13/201\n",
            "18/18 [==============================] - 0s 4ms/step - loss: 8.2368 - val_loss: 9.2821\n",
            "Epoch 14/201\n",
            "18/18 [==============================] - 0s 3ms/step - loss: 7.8330 - val_loss: 8.8296\n",
            "Epoch 15/201\n",
            "18/18 [==============================] - 0s 3ms/step - loss: 7.4565 - val_loss: 8.4108\n",
            "Epoch 16/201\n",
            "18/18 [==============================] - 0s 4ms/step - loss: 7.1171 - val_loss: 8.0340\n",
            "Epoch 17/201\n",
            "18/18 [==============================] - 0s 5ms/step - loss: 6.8001 - val_loss: 7.6380\n",
            "Epoch 18/201\n",
            "18/18 [==============================] - 0s 4ms/step - loss: 6.5009 - val_loss: 7.2818\n",
            "Epoch 19/201\n",
            "18/18 [==============================] - 0s 4ms/step - loss: 6.2554 - val_loss: 6.9786\n",
            "Epoch 20/201\n",
            "18/18 [==============================] - 0s 4ms/step - loss: 6.0164 - val_loss: 6.7103\n",
            "Epoch 21/201\n",
            "18/18 [==============================] - 0s 3ms/step - loss: 5.8042 - val_loss: 6.4815\n",
            "Epoch 22/201\n",
            "18/18 [==============================] - 0s 4ms/step - loss: 5.6387 - val_loss: 6.3114\n",
            "Epoch 23/201\n",
            "18/18 [==============================] - 0s 3ms/step - loss: 5.5163 - val_loss: 6.1711\n",
            "Epoch 24/201\n",
            "18/18 [==============================] - 0s 3ms/step - loss: 5.4275 - val_loss: 6.1002\n",
            "Epoch 25/201\n",
            "18/18 [==============================] - 0s 4ms/step - loss: 5.3705 - val_loss: 6.0457\n",
            "Epoch 26/201\n",
            "18/18 [==============================] - 0s 3ms/step - loss: 5.3279 - val_loss: 6.0265\n",
            "Epoch 27/201\n",
            "18/18 [==============================] - 0s 4ms/step - loss: 5.3059 - val_loss: 6.0179\n",
            "Epoch 28/201\n",
            "18/18 [==============================] - 0s 3ms/step - loss: 5.2983 - val_loss: 6.0161\n",
            "Epoch 29/201\n",
            "18/18 [==============================] - 0s 4ms/step - loss: 5.2946 - val_loss: 6.0153\n",
            "Epoch 30/201\n",
            "18/18 [==============================] - 0s 4ms/step - loss: 5.2980 - val_loss: 6.0147\n",
            "Epoch 31/201\n",
            "18/18 [==============================] - 0s 3ms/step - loss: 5.2933 - val_loss: 6.0141\n",
            "Epoch 32/201\n",
            "18/18 [==============================] - 0s 3ms/step - loss: 5.2939 - val_loss: 6.0135\n",
            "Epoch 33/201\n",
            "18/18 [==============================] - 0s 3ms/step - loss: 5.2929 - val_loss: 6.0128\n",
            "Epoch 34/201\n",
            "18/18 [==============================] - 0s 3ms/step - loss: 5.2941 - val_loss: 6.0121\n",
            "Epoch 35/201\n",
            "18/18 [==============================] - 0s 3ms/step - loss: 5.2912 - val_loss: 6.0114\n",
            "Epoch 36/201\n",
            "18/18 [==============================] - 0s 4ms/step - loss: 5.2924 - val_loss: 6.0107\n",
            "Epoch 37/201\n",
            "18/18 [==============================] - 0s 4ms/step - loss: 5.2917 - val_loss: 6.0101\n",
            "Epoch 38/201\n",
            "18/18 [==============================] - 0s 4ms/step - loss: 5.2891 - val_loss: 6.0094\n",
            "Epoch 39/201\n",
            "18/18 [==============================] - 0s 4ms/step - loss: 5.2894 - val_loss: 6.0085\n",
            "Epoch 40/201\n",
            "18/18 [==============================] - 0s 3ms/step - loss: 5.2916 - val_loss: 6.0077\n",
            "Epoch 41/201\n",
            "18/18 [==============================] - 0s 4ms/step - loss: 5.2878 - val_loss: 6.0069\n",
            "Epoch 42/201\n",
            "18/18 [==============================] - 0s 4ms/step - loss: 5.2886 - val_loss: 6.0062\n",
            "Epoch 43/201\n",
            "18/18 [==============================] - 0s 4ms/step - loss: 5.2899 - val_loss: 6.0055\n",
            "Epoch 44/201\n",
            "18/18 [==============================] - 0s 4ms/step - loss: 5.2887 - val_loss: 6.0049\n",
            "Epoch 45/201\n",
            "18/18 [==============================] - 0s 4ms/step - loss: 5.2887 - val_loss: 6.0043\n",
            "Epoch 46/201\n",
            "18/18 [==============================] - 0s 4ms/step - loss: 5.2868 - val_loss: 6.0036\n",
            "Epoch 47/201\n",
            "18/18 [==============================] - 0s 4ms/step - loss: 5.2848 - val_loss: 6.0028\n",
            "Epoch 48/201\n",
            "18/18 [==============================] - 0s 4ms/step - loss: 5.2876 - val_loss: 6.0021\n",
            "Epoch 49/201\n",
            "18/18 [==============================] - 0s 4ms/step - loss: 5.2874 - val_loss: 6.0015\n",
            "Epoch 50/201\n",
            "18/18 [==============================] - 0s 4ms/step - loss: 5.2870 - val_loss: 6.0010\n",
            "Epoch 51/201\n",
            "18/18 [==============================] - 0s 3ms/step - loss: 5.2852 - val_loss: 6.0004\n",
            "Epoch 52/201\n",
            "18/18 [==============================] - 0s 3ms/step - loss: 5.2831 - val_loss: 5.9997\n",
            "Epoch 53/201\n",
            "18/18 [==============================] - 0s 4ms/step - loss: 5.2837 - val_loss: 5.9989\n",
            "Epoch 54/201\n",
            "18/18 [==============================] - 0s 3ms/step - loss: 5.2841 - val_loss: 5.9984\n",
            "Epoch 55/201\n",
            "18/18 [==============================] - 0s 3ms/step - loss: 5.2826 - val_loss: 5.9977\n",
            "Epoch 56/201\n",
            "18/18 [==============================] - 0s 4ms/step - loss: 5.2795 - val_loss: 5.9970\n",
            "Epoch 57/201\n",
            "18/18 [==============================] - 0s 4ms/step - loss: 5.2819 - val_loss: 5.9963\n",
            "Epoch 58/201\n",
            "18/18 [==============================] - 0s 3ms/step - loss: 5.2830 - val_loss: 5.9957\n",
            "Epoch 59/201\n",
            "18/18 [==============================] - 0s 3ms/step - loss: 5.2800 - val_loss: 5.9950\n",
            "Epoch 60/201\n",
            "18/18 [==============================] - 0s 4ms/step - loss: 5.2802 - val_loss: 5.9942\n",
            "Epoch 61/201\n",
            "18/18 [==============================] - 0s 4ms/step - loss: 5.2784 - val_loss: 5.9934\n",
            "Epoch 62/201\n",
            "18/18 [==============================] - 0s 4ms/step - loss: 5.2775 - val_loss: 5.9925\n",
            "Epoch 63/201\n",
            "18/18 [==============================] - 0s 3ms/step - loss: 5.2782 - val_loss: 5.9916\n",
            "Epoch 64/201\n",
            "18/18 [==============================] - 0s 3ms/step - loss: 5.2763 - val_loss: 5.9908\n",
            "Epoch 65/201\n",
            "18/18 [==============================] - 0s 3ms/step - loss: 5.2760 - val_loss: 5.9900\n",
            "Epoch 66/201\n",
            "18/18 [==============================] - 0s 4ms/step - loss: 5.2760 - val_loss: 5.9891\n",
            "Epoch 67/201\n",
            "18/18 [==============================] - 0s 3ms/step - loss: 5.2769 - val_loss: 5.9885\n",
            "Epoch 68/201\n",
            "18/18 [==============================] - 0s 3ms/step - loss: 5.2763 - val_loss: 5.9878\n",
            "Epoch 69/201\n",
            "18/18 [==============================] - 0s 4ms/step - loss: 5.2751 - val_loss: 5.9872\n",
            "Epoch 70/201\n",
            "18/18 [==============================] - 0s 4ms/step - loss: 5.2745 - val_loss: 5.9865\n",
            "Epoch 71/201\n",
            "18/18 [==============================] - 0s 4ms/step - loss: 5.2727 - val_loss: 5.9857\n",
            "Epoch 72/201\n",
            "18/18 [==============================] - 0s 4ms/step - loss: 5.2746 - val_loss: 5.9850\n",
            "Epoch 73/201\n",
            "18/18 [==============================] - 0s 3ms/step - loss: 5.2733 - val_loss: 5.9843\n",
            "Epoch 74/201\n",
            "18/18 [==============================] - 0s 4ms/step - loss: 5.2714 - val_loss: 5.9835\n",
            "Epoch 75/201\n",
            "18/18 [==============================] - 0s 3ms/step - loss: 5.2739 - val_loss: 5.9829\n",
            "Epoch 76/201\n",
            "18/18 [==============================] - 0s 4ms/step - loss: 5.2742 - val_loss: 5.9823\n",
            "Epoch 77/201\n",
            "18/18 [==============================] - 0s 3ms/step - loss: 5.2709 - val_loss: 5.9817\n",
            "Epoch 78/201\n",
            "18/18 [==============================] - 0s 4ms/step - loss: 5.2735 - val_loss: 5.9811\n",
            "Epoch 79/201\n",
            "18/18 [==============================] - 0s 3ms/step - loss: 5.2719 - val_loss: 5.9806\n",
            "Epoch 80/201\n",
            "18/18 [==============================] - 0s 4ms/step - loss: 5.2692 - val_loss: 5.9800\n",
            "Epoch 81/201\n",
            "18/18 [==============================] - 0s 3ms/step - loss: 5.2688 - val_loss: 5.9792\n",
            "Epoch 82/201\n",
            "18/18 [==============================] - 0s 3ms/step - loss: 5.2695 - val_loss: 5.9785\n",
            "Epoch 83/201\n",
            "18/18 [==============================] - 0s 3ms/step - loss: 5.2682 - val_loss: 5.9778\n",
            "Epoch 84/201\n",
            "18/18 [==============================] - 0s 4ms/step - loss: 5.2682 - val_loss: 5.9770\n",
            "Epoch 85/201\n",
            "18/18 [==============================] - 0s 3ms/step - loss: 5.2682 - val_loss: 5.9763\n",
            "Epoch 86/201\n",
            "18/18 [==============================] - 0s 4ms/step - loss: 5.2676 - val_loss: 5.9756\n",
            "Epoch 87/201\n",
            "18/18 [==============================] - 0s 4ms/step - loss: 5.2670 - val_loss: 5.9750\n",
            "Epoch 88/201\n",
            "18/18 [==============================] - 0s 3ms/step - loss: 5.2672 - val_loss: 5.9744\n",
            "Epoch 89/201\n",
            "18/18 [==============================] - 0s 4ms/step - loss: 5.2639 - val_loss: 5.9737\n",
            "Epoch 90/201\n",
            "18/18 [==============================] - 0s 3ms/step - loss: 5.2668 - val_loss: 5.9731\n",
            "Epoch 91/201\n",
            "18/18 [==============================] - 0s 4ms/step - loss: 5.2638 - val_loss: 5.9724\n",
            "Epoch 92/201\n",
            "18/18 [==============================] - 0s 3ms/step - loss: 5.2626 - val_loss: 5.9716\n",
            "Epoch 93/201\n",
            "18/18 [==============================] - 0s 4ms/step - loss: 5.2663 - val_loss: 5.9709\n",
            "Epoch 94/201\n",
            "18/18 [==============================] - 0s 4ms/step - loss: 5.2627 - val_loss: 5.9702\n",
            "Epoch 95/201\n",
            "18/18 [==============================] - 0s 3ms/step - loss: 5.2635 - val_loss: 5.9695\n",
            "Epoch 96/201\n",
            "18/18 [==============================] - 0s 3ms/step - loss: 5.2629 - val_loss: 5.9689\n",
            "Epoch 97/201\n",
            "18/18 [==============================] - 0s 4ms/step - loss: 5.2595 - val_loss: 5.9683\n",
            "Epoch 98/201\n",
            "18/18 [==============================] - 0s 4ms/step - loss: 5.2633 - val_loss: 5.9676\n",
            "Epoch 99/201\n",
            "18/18 [==============================] - 0s 4ms/step - loss: 5.2592 - val_loss: 5.9669\n",
            "Epoch 100/201\n",
            "18/18 [==============================] - 0s 4ms/step - loss: 5.2590 - val_loss: 5.9661\n",
            "Epoch 101/201\n",
            "18/18 [==============================] - 0s 5ms/step - loss: 5.2578 - val_loss: 5.9650\n",
            "Epoch 102/201\n",
            "18/18 [==============================] - 0s 4ms/step - loss: 5.2605 - val_loss: 5.9642\n",
            "Epoch 103/201\n",
            "18/18 [==============================] - 0s 4ms/step - loss: 5.2576 - val_loss: 5.9634\n",
            "Epoch 104/201\n",
            "18/18 [==============================] - 0s 5ms/step - loss: 5.2581 - val_loss: 5.9627\n",
            "Epoch 105/201\n",
            "18/18 [==============================] - 0s 5ms/step - loss: 5.2577 - val_loss: 5.9621\n",
            "Epoch 106/201\n",
            "18/18 [==============================] - 0s 5ms/step - loss: 5.2565 - val_loss: 5.9614\n",
            "Epoch 107/201\n",
            "18/18 [==============================] - 0s 4ms/step - loss: 5.2551 - val_loss: 5.9607\n",
            "Epoch 108/201\n",
            "18/18 [==============================] - 0s 5ms/step - loss: 5.2563 - val_loss: 5.9600\n",
            "Epoch 109/201\n",
            "18/18 [==============================] - 0s 5ms/step - loss: 5.2576 - val_loss: 5.9594\n",
            "Epoch 110/201\n",
            "18/18 [==============================] - 0s 5ms/step - loss: 5.2555 - val_loss: 5.9588\n",
            "Epoch 111/201\n",
            "18/18 [==============================] - 0s 5ms/step - loss: 5.2528 - val_loss: 5.9581\n",
            "Epoch 112/201\n",
            "18/18 [==============================] - 0s 5ms/step - loss: 5.2542 - val_loss: 5.9573\n",
            "Epoch 113/201\n",
            "18/18 [==============================] - 0s 5ms/step - loss: 5.2543 - val_loss: 5.9567\n",
            "Epoch 114/201\n",
            "18/18 [==============================] - 0s 4ms/step - loss: 5.2526 - val_loss: 5.9560\n",
            "Epoch 115/201\n",
            "18/18 [==============================] - 0s 5ms/step - loss: 5.2522 - val_loss: 5.9553\n",
            "Epoch 116/201\n",
            "18/18 [==============================] - 0s 5ms/step - loss: 5.2536 - val_loss: 5.9548\n",
            "Epoch 117/201\n",
            "18/18 [==============================] - 0s 5ms/step - loss: 5.2497 - val_loss: 5.9541\n",
            "Epoch 118/201\n",
            "18/18 [==============================] - 0s 5ms/step - loss: 5.2517 - val_loss: 5.9533\n",
            "Epoch 119/201\n",
            "18/18 [==============================] - 0s 5ms/step - loss: 5.2518 - val_loss: 5.9526\n",
            "Epoch 120/201\n",
            "18/18 [==============================] - 0s 4ms/step - loss: 5.2506 - val_loss: 5.9520\n",
            "Epoch 121/201\n",
            "18/18 [==============================] - 0s 5ms/step - loss: 5.2494 - val_loss: 5.9513\n",
            "Epoch 122/201\n",
            "18/18 [==============================] - 0s 5ms/step - loss: 5.2482 - val_loss: 5.9506\n",
            "Epoch 123/201\n",
            "18/18 [==============================] - 0s 6ms/step - loss: 5.2496 - val_loss: 5.9498\n",
            "Epoch 124/201\n",
            "18/18 [==============================] - 0s 5ms/step - loss: 5.2478 - val_loss: 5.9491\n",
            "Epoch 125/201\n",
            "18/18 [==============================] - 0s 5ms/step - loss: 5.2471 - val_loss: 5.9483\n",
            "Epoch 126/201\n",
            "18/18 [==============================] - 0s 5ms/step - loss: 5.2488 - val_loss: 5.9477\n",
            "Epoch 127/201\n",
            "18/18 [==============================] - 0s 5ms/step - loss: 5.2485 - val_loss: 5.9472\n",
            "Epoch 128/201\n",
            "18/18 [==============================] - 0s 5ms/step - loss: 5.2449 - val_loss: 5.9465\n",
            "Epoch 129/201\n",
            "18/18 [==============================] - 0s 6ms/step - loss: 5.2458 - val_loss: 5.9458\n",
            "Epoch 130/201\n",
            "18/18 [==============================] - 0s 5ms/step - loss: 5.2449 - val_loss: 5.9450\n",
            "Epoch 131/201\n",
            "18/18 [==============================] - 0s 5ms/step - loss: 5.2438 - val_loss: 5.9443\n",
            "Epoch 132/201\n",
            "18/18 [==============================] - 0s 3ms/step - loss: 5.2431 - val_loss: 5.9437\n",
            "Epoch 133/201\n",
            "18/18 [==============================] - 0s 3ms/step - loss: 5.2429 - val_loss: 5.9430\n",
            "Epoch 134/201\n",
            "18/18 [==============================] - 0s 4ms/step - loss: 5.2426 - val_loss: 5.9422\n",
            "Epoch 135/201\n",
            "18/18 [==============================] - 0s 4ms/step - loss: 5.2448 - val_loss: 5.9416\n",
            "Epoch 136/201\n",
            "18/18 [==============================] - 0s 3ms/step - loss: 5.2419 - val_loss: 5.9409\n",
            "Epoch 137/201\n",
            "18/18 [==============================] - 0s 4ms/step - loss: 5.2426 - val_loss: 5.9402\n",
            "Epoch 138/201\n",
            "18/18 [==============================] - 0s 4ms/step - loss: 5.2421 - val_loss: 5.9395\n",
            "Epoch 139/201\n",
            "18/18 [==============================] - 0s 4ms/step - loss: 5.2388 - val_loss: 5.9388\n",
            "Epoch 140/201\n",
            "18/18 [==============================] - 0s 4ms/step - loss: 5.2389 - val_loss: 5.9379\n",
            "Epoch 141/201\n",
            "18/18 [==============================] - 0s 4ms/step - loss: 5.2416 - val_loss: 5.9371\n",
            "Epoch 142/201\n",
            "18/18 [==============================] - 0s 4ms/step - loss: 5.2406 - val_loss: 5.9365\n",
            "Epoch 143/201\n",
            "18/18 [==============================] - 0s 4ms/step - loss: 5.2398 - val_loss: 5.9358\n",
            "Epoch 144/201\n",
            "18/18 [==============================] - 0s 4ms/step - loss: 5.2358 - val_loss: 5.9352\n",
            "Epoch 145/201\n",
            "18/18 [==============================] - 0s 4ms/step - loss: 5.2365 - val_loss: 5.9343\n",
            "Epoch 146/201\n",
            "18/18 [==============================] - 0s 4ms/step - loss: 5.2377 - val_loss: 5.9337\n",
            "Epoch 147/201\n",
            "18/18 [==============================] - 0s 4ms/step - loss: 5.2356 - val_loss: 5.9328\n",
            "Epoch 148/201\n",
            "18/18 [==============================] - 0s 4ms/step - loss: 5.2367 - val_loss: 5.9321\n",
            "Epoch 149/201\n",
            "18/18 [==============================] - 0s 4ms/step - loss: 5.2352 - val_loss: 5.9315\n",
            "Epoch 150/201\n",
            "18/18 [==============================] - 0s 4ms/step - loss: 5.2343 - val_loss: 5.9307\n",
            "Epoch 151/201\n",
            "18/18 [==============================] - 0s 4ms/step - loss: 5.2349 - val_loss: 5.9300\n",
            "Epoch 152/201\n",
            "18/18 [==============================] - 0s 3ms/step - loss: 5.2328 - val_loss: 5.9292\n",
            "Epoch 153/201\n",
            "18/18 [==============================] - 0s 4ms/step - loss: 5.2336 - val_loss: 5.9285\n",
            "Epoch 154/201\n",
            "18/18 [==============================] - 0s 3ms/step - loss: 5.2320 - val_loss: 5.9277\n",
            "Epoch 155/201\n",
            "18/18 [==============================] - 0s 4ms/step - loss: 5.2318 - val_loss: 5.9270\n",
            "Epoch 156/201\n",
            "18/18 [==============================] - 0s 3ms/step - loss: 5.2332 - val_loss: 5.9263\n",
            "Epoch 157/201\n",
            "18/18 [==============================] - 0s 4ms/step - loss: 5.2329 - val_loss: 5.9258\n",
            "Epoch 158/201\n",
            "18/18 [==============================] - 0s 4ms/step - loss: 5.2299 - val_loss: 5.9252\n",
            "Epoch 159/201\n",
            "18/18 [==============================] - 0s 4ms/step - loss: 5.2303 - val_loss: 5.9245\n",
            "Epoch 160/201\n",
            "18/18 [==============================] - 0s 3ms/step - loss: 5.2304 - val_loss: 5.9238\n",
            "Epoch 161/201\n",
            "18/18 [==============================] - 0s 4ms/step - loss: 5.2291 - val_loss: 5.9232\n",
            "Epoch 162/201\n",
            "18/18 [==============================] - 0s 5ms/step - loss: 5.2293 - val_loss: 5.9224\n",
            "Epoch 163/201\n",
            "18/18 [==============================] - 0s 4ms/step - loss: 5.2286 - val_loss: 5.9217\n",
            "Epoch 164/201\n",
            "18/18 [==============================] - 0s 3ms/step - loss: 5.2272 - val_loss: 5.9209\n",
            "Epoch 165/201\n",
            "18/18 [==============================] - 0s 4ms/step - loss: 5.2270 - val_loss: 5.9202\n",
            "Epoch 166/201\n",
            "18/18 [==============================] - 0s 4ms/step - loss: 5.2264 - val_loss: 5.9195\n",
            "Epoch 167/201\n",
            "18/18 [==============================] - 0s 4ms/step - loss: 5.2248 - val_loss: 5.9184\n",
            "Epoch 168/201\n",
            "18/18 [==============================] - 0s 4ms/step - loss: 5.2248 - val_loss: 5.9174\n",
            "Epoch 169/201\n",
            "18/18 [==============================] - 0s 3ms/step - loss: 5.2268 - val_loss: 5.9167\n",
            "Epoch 170/201\n",
            "18/18 [==============================] - 0s 4ms/step - loss: 5.2227 - val_loss: 5.9161\n",
            "Epoch 171/201\n",
            "18/18 [==============================] - 0s 4ms/step - loss: 5.2252 - val_loss: 5.9154\n",
            "Epoch 172/201\n",
            "18/18 [==============================] - 0s 5ms/step - loss: 5.2235 - val_loss: 5.9148\n",
            "Epoch 173/201\n",
            "18/18 [==============================] - 0s 5ms/step - loss: 5.2233 - val_loss: 5.9140\n",
            "Epoch 174/201\n",
            "18/18 [==============================] - 0s 5ms/step - loss: 5.2233 - val_loss: 5.9133\n",
            "Epoch 175/201\n",
            "18/18 [==============================] - 0s 8ms/step - loss: 5.2233 - val_loss: 5.9127\n",
            "Epoch 176/201\n",
            "18/18 [==============================] - 0s 4ms/step - loss: 5.2246 - val_loss: 5.9121\n",
            "Epoch 177/201\n",
            "18/18 [==============================] - 0s 5ms/step - loss: 5.2211 - val_loss: 5.9116\n",
            "Epoch 178/201\n",
            "18/18 [==============================] - 0s 5ms/step - loss: 5.2217 - val_loss: 5.9110\n",
            "Epoch 179/201\n",
            "18/18 [==============================] - 0s 4ms/step - loss: 5.2230 - val_loss: 5.9103\n",
            "Epoch 180/201\n",
            "18/18 [==============================] - 0s 4ms/step - loss: 5.2195 - val_loss: 5.9096\n",
            "Epoch 181/201\n",
            "18/18 [==============================] - 0s 5ms/step - loss: 5.2190 - val_loss: 5.9089\n",
            "Epoch 182/201\n",
            "18/18 [==============================] - 0s 4ms/step - loss: 5.2205 - val_loss: 5.9082\n",
            "Epoch 183/201\n",
            "18/18 [==============================] - 0s 4ms/step - loss: 5.2180 - val_loss: 5.9075\n",
            "Epoch 184/201\n",
            "18/18 [==============================] - 0s 5ms/step - loss: 5.2166 - val_loss: 5.9067\n",
            "Epoch 185/201\n",
            "18/18 [==============================] - 0s 5ms/step - loss: 5.2194 - val_loss: 5.9061\n",
            "Epoch 186/201\n",
            "18/18 [==============================] - 0s 5ms/step - loss: 5.2163 - val_loss: 5.9055\n",
            "Epoch 187/201\n",
            "18/18 [==============================] - 0s 5ms/step - loss: 5.2171 - val_loss: 5.9048\n",
            "Epoch 188/201\n",
            "18/18 [==============================] - 0s 4ms/step - loss: 5.2171 - val_loss: 5.9041\n",
            "Epoch 189/201\n",
            "18/18 [==============================] - 0s 5ms/step - loss: 5.2144 - val_loss: 5.9039\n",
            "Epoch 190/201\n",
            "18/18 [==============================] - 0s 5ms/step - loss: 5.2164 - val_loss: 5.9033\n",
            "Epoch 191/201\n",
            "18/18 [==============================] - 0s 4ms/step - loss: 5.2160 - val_loss: 5.9024\n",
            "Epoch 192/201\n",
            "18/18 [==============================] - 0s 5ms/step - loss: 5.2161 - val_loss: 5.9018\n",
            "Epoch 193/201\n",
            "18/18 [==============================] - 0s 5ms/step - loss: 5.2129 - val_loss: 5.9011\n",
            "Epoch 194/201\n",
            "18/18 [==============================] - 0s 5ms/step - loss: 5.2169 - val_loss: 5.9005\n",
            "Epoch 195/201\n",
            "18/18 [==============================] - 0s 5ms/step - loss: 5.2127 - val_loss: 5.8999\n",
            "Epoch 196/201\n",
            "18/18 [==============================] - 0s 5ms/step - loss: 5.2143 - val_loss: 5.8992\n",
            "Epoch 197/201\n",
            "18/18 [==============================] - 0s 5ms/step - loss: 5.2128 - val_loss: 5.8986\n",
            "Epoch 198/201\n",
            "18/18 [==============================] - 0s 5ms/step - loss: 5.2111 - val_loss: 5.8979\n",
            "Epoch 199/201\n",
            "18/18 [==============================] - 0s 5ms/step - loss: 5.2113 - val_loss: 5.8971\n",
            "Epoch 200/201\n",
            "18/18 [==============================] - 0s 4ms/step - loss: 5.2126 - val_loss: 5.8966\n",
            "Epoch 201/201\n",
            "18/18 [==============================] - 0s 5ms/step - loss: 5.2108 - val_loss: 5.8960\n"
          ]
        }
      ]
    },
    {
      "cell_type": "code",
      "source": [
        "history.history['loss']"
      ],
      "metadata": {
        "colab": {
          "base_uri": "https://localhost:8080/"
        },
        "id": "_FVIx4ZjWXEV",
        "outputId": "bad3a702-0e45-46a4-a434-67147037a69d"
      },
      "execution_count": null,
      "outputs": [
        {
          "output_type": "execute_result",
          "data": {
            "text/plain": [
              "[15.194083213806152,\n",
              " 14.458562850952148,\n",
              " 13.814325332641602,\n",
              " 13.183269500732422,\n",
              " 12.566498756408691,\n",
              " 11.965590476989746,\n",
              " 11.37486743927002,\n",
              " 10.79011344909668,\n",
              " 10.220245361328125,\n",
              " 9.663817405700684,\n",
              " 9.148374557495117,\n",
              " 8.6726655960083,\n",
              " 8.236844062805176,\n",
              " 7.83296537399292,\n",
              " 7.456460952758789,\n",
              " 7.117091178894043,\n",
              " 6.8000617027282715,\n",
              " 6.500908374786377,\n",
              " 6.255352973937988,\n",
              " 6.016359329223633,\n",
              " 5.804228782653809,\n",
              " 5.638673782348633,\n",
              " 5.516348838806152,\n",
              " 5.427470684051514,\n",
              " 5.370480060577393,\n",
              " 5.327888011932373,\n",
              " 5.3058762550354,\n",
              " 5.298290729522705,\n",
              " 5.294607639312744,\n",
              " 5.298048973083496,\n",
              " 5.293309211730957,\n",
              " 5.293933391571045,\n",
              " 5.2929205894470215,\n",
              " 5.294073104858398,\n",
              " 5.291191101074219,\n",
              " 5.292418479919434,\n",
              " 5.291731834411621,\n",
              " 5.289083003997803,\n",
              " 5.289351463317871,\n",
              " 5.291616439819336,\n",
              " 5.287761211395264,\n",
              " 5.288553714752197,\n",
              " 5.289865493774414,\n",
              " 5.288691520690918,\n",
              " 5.288701057434082,\n",
              " 5.286777496337891,\n",
              " 5.284755229949951,\n",
              " 5.2875847816467285,\n",
              " 5.287373065948486,\n",
              " 5.2870192527771,\n",
              " 5.285180568695068,\n",
              " 5.283121585845947,\n",
              " 5.283736228942871,\n",
              " 5.284149169921875,\n",
              " 5.282565593719482,\n",
              " 5.279462814331055,\n",
              " 5.281922340393066,\n",
              " 5.282956600189209,\n",
              " 5.279998779296875,\n",
              " 5.280241966247559,\n",
              " 5.278414726257324,\n",
              " 5.277513027191162,\n",
              " 5.27822732925415,\n",
              " 5.276268482208252,\n",
              " 5.276046276092529,\n",
              " 5.276040554046631,\n",
              " 5.276942253112793,\n",
              " 5.276346683502197,\n",
              " 5.275091171264648,\n",
              " 5.274477481842041,\n",
              " 5.272714138031006,\n",
              " 5.2745747566223145,\n",
              " 5.273321151733398,\n",
              " 5.2713518142700195,\n",
              " 5.273853778839111,\n",
              " 5.274215221405029,\n",
              " 5.270864963531494,\n",
              " 5.273533821105957,\n",
              " 5.271948337554932,\n",
              " 5.2691826820373535,\n",
              " 5.26878023147583,\n",
              " 5.269534111022949,\n",
              " 5.268245220184326,\n",
              " 5.268223285675049,\n",
              " 5.268153190612793,\n",
              " 5.267605304718018,\n",
              " 5.267017841339111,\n",
              " 5.267158031463623,\n",
              " 5.263865947723389,\n",
              " 5.266764163970947,\n",
              " 5.2637858390808105,\n",
              " 5.262622833251953,\n",
              " 5.2663493156433105,\n",
              " 5.262678623199463,\n",
              " 5.263507843017578,\n",
              " 5.262940883636475,\n",
              " 5.259498119354248,\n",
              " 5.263286590576172,\n",
              " 5.259170055389404,\n",
              " 5.259040832519531,\n",
              " 5.25782585144043,\n",
              " 5.260528564453125,\n",
              " 5.25758171081543,\n",
              " 5.258116722106934,\n",
              " 5.257688522338867,\n",
              " 5.256453514099121,\n",
              " 5.255087852478027,\n",
              " 5.256261348724365,\n",
              " 5.257617473602295,\n",
              " 5.255542755126953,\n",
              " 5.252849102020264,\n",
              " 5.254171371459961,\n",
              " 5.254347324371338,\n",
              " 5.252622604370117,\n",
              " 5.252196788787842,\n",
              " 5.2535905838012695,\n",
              " 5.249673366546631,\n",
              " 5.251650333404541,\n",
              " 5.251832485198975,\n",
              " 5.250631332397461,\n",
              " 5.249422073364258,\n",
              " 5.24815034866333,\n",
              " 5.249579906463623,\n",
              " 5.247823715209961,\n",
              " 5.247121810913086,\n",
              " 5.248808860778809,\n",
              " 5.2484846115112305,\n",
              " 5.244875431060791,\n",
              " 5.24584436416626,\n",
              " 5.244865894317627,\n",
              " 5.243755340576172,\n",
              " 5.243125915527344,\n",
              " 5.242855072021484,\n",
              " 5.242620468139648,\n",
              " 5.244754314422607,\n",
              " 5.24191427230835,\n",
              " 5.242589950561523,\n",
              " 5.24205207824707,\n",
              " 5.238824367523193,\n",
              " 5.238910675048828,\n",
              " 5.241608619689941,\n",
              " 5.240623950958252,\n",
              " 5.239771842956543,\n",
              " 5.23578405380249,\n",
              " 5.236506462097168,\n",
              " 5.237696647644043,\n",
              " 5.235607624053955,\n",
              " 5.236733913421631,\n",
              " 5.235159873962402,\n",
              " 5.234335899353027,\n",
              " 5.234892845153809,\n",
              " 5.232829570770264,\n",
              " 5.233555793762207,\n",
              " 5.231968879699707,\n",
              " 5.231812000274658,\n",
              " 5.233157634735107,\n",
              " 5.232914447784424,\n",
              " 5.2298665046691895,\n",
              " 5.230255603790283,\n",
              " 5.230406284332275,\n",
              " 5.229069232940674,\n",
              " 5.229300498962402,\n",
              " 5.2285919189453125,\n",
              " 5.2271857261657715,\n",
              " 5.226964473724365,\n",
              " 5.2263569831848145,\n",
              " 5.224791049957275,\n",
              " 5.224837779998779,\n",
              " 5.226766586303711,\n",
              " 5.222715377807617,\n",
              " 5.225236415863037,\n",
              " 5.223503589630127,\n",
              " 5.22329044342041,\n",
              " 5.223268985748291,\n",
              " 5.223251819610596,\n",
              " 5.224588871002197,\n",
              " 5.221099853515625,\n",
              " 5.221695899963379,\n",
              " 5.222964286804199,\n",
              " 5.219489574432373,\n",
              " 5.219045639038086,\n",
              " 5.220505714416504,\n",
              " 5.217959403991699,\n",
              " 5.216566562652588,\n",
              " 5.219362258911133,\n",
              " 5.2162861824035645,\n",
              " 5.217142105102539,\n",
              " 5.217128753662109,\n",
              " 5.214409351348877,\n",
              " 5.216442108154297,\n",
              " 5.216001033782959,\n",
              " 5.216107368469238,\n",
              " 5.212903022766113,\n",
              " 5.216875076293945,\n",
              " 5.212677955627441,\n",
              " 5.214286804199219,\n",
              " 5.212793350219727,\n",
              " 5.211051940917969,\n",
              " 5.21132755279541,\n",
              " 5.21259069442749,\n",
              " 5.210834503173828]"
            ]
          },
          "metadata": {},
          "execution_count": 258
        }
      ]
    },
    {
      "cell_type": "code",
      "source": [
        "history.history['val_loss']"
      ],
      "metadata": {
        "colab": {
          "base_uri": "https://localhost:8080/"
        },
        "id": "kkBA37QfWmGo",
        "outputId": "cccd817b-24f0-40d2-db46-ab210ce799ef"
      },
      "execution_count": null,
      "outputs": [
        {
          "output_type": "execute_result",
          "data": {
            "text/plain": [
              "[16.13880729675293,\n",
              " 15.475430488586426,\n",
              " 14.834800720214844,\n",
              " 14.212597846984863,\n",
              " 13.610638618469238,\n",
              " 13.024624824523926,\n",
              " 12.437545776367188,\n",
              " 11.86426067352295,\n",
              " 11.313699722290039,\n",
              " 10.775412559509277,\n",
              " 10.260144233703613,\n",
              " 9.753188133239746,\n",
              " 9.282088279724121,\n",
              " 8.829621315002441,\n",
              " 8.410787582397461,\n",
              " 8.033997535705566,\n",
              " 7.637988567352295,\n",
              " 7.281804084777832,\n",
              " 6.978560447692871,\n",
              " 6.710264205932617,\n",
              " 6.481461048126221,\n",
              " 6.311437606811523,\n",
              " 6.171146869659424,\n",
              " 6.100162029266357,\n",
              " 6.045719146728516,\n",
              " 6.026456356048584,\n",
              " 6.017916202545166,\n",
              " 6.0160603523254395,\n",
              " 6.015289306640625,\n",
              " 6.0146989822387695,\n",
              " 6.014068603515625,\n",
              " 6.01347017288208,\n",
              " 6.012779235839844,\n",
              " 6.012123107910156,\n",
              " 6.011440277099609,\n",
              " 6.0107197761535645,\n",
              " 6.010051250457764,\n",
              " 6.009378433227539,\n",
              " 6.008512496948242,\n",
              " 6.007718563079834,\n",
              " 6.006898880004883,\n",
              " 6.006178855895996,\n",
              " 6.005506992340088,\n",
              " 6.004912853240967,\n",
              " 6.004273414611816,\n",
              " 6.003603458404541,\n",
              " 6.002804756164551,\n",
              " 6.002137660980225,\n",
              " 6.001543045043945,\n",
              " 6.001007556915283,\n",
              " 6.000417709350586,\n",
              " 5.999708652496338,\n",
              " 5.998931407928467,\n",
              " 5.998355388641357,\n",
              " 5.997702598571777,\n",
              " 5.997036457061768,\n",
              " 5.996288299560547,\n",
              " 5.995695114135742,\n",
              " 5.995044708251953,\n",
              " 5.994234561920166,\n",
              " 5.993410110473633,\n",
              " 5.992517471313477,\n",
              " 5.991633892059326,\n",
              " 5.990793228149414,\n",
              " 5.989959716796875,\n",
              " 5.989149570465088,\n",
              " 5.988508224487305,\n",
              " 5.987800121307373,\n",
              " 5.987175464630127,\n",
              " 5.986537456512451,\n",
              " 5.985661506652832,\n",
              " 5.984961032867432,\n",
              " 5.98428201675415,\n",
              " 5.983470439910889,\n",
              " 5.982888221740723,\n",
              " 5.982275485992432,\n",
              " 5.981672286987305,\n",
              " 5.981112003326416,\n",
              " 5.980613708496094,\n",
              " 5.979964733123779,\n",
              " 5.97920036315918,\n",
              " 5.978528022766113,\n",
              " 5.977807521820068,\n",
              " 5.976998329162598,\n",
              " 5.976291179656982,\n",
              " 5.975607872009277,\n",
              " 5.974981307983398,\n",
              " 5.974415302276611,\n",
              " 5.973727226257324,\n",
              " 5.97312593460083,\n",
              " 5.972418308258057,\n",
              " 5.971578598022461,\n",
              " 5.970929145812988,\n",
              " 5.97017240524292,\n",
              " 5.969534873962402,\n",
              " 5.968895435333252,\n",
              " 5.968259811401367,\n",
              " 5.967605113983154,\n",
              " 5.966902732849121,\n",
              " 5.966094017028809,\n",
              " 5.9650444984436035,\n",
              " 5.964204788208008,\n",
              " 5.963438034057617,\n",
              " 5.9627156257629395,\n",
              " 5.962072849273682,\n",
              " 5.961379528045654,\n",
              " 5.960725784301758,\n",
              " 5.9599690437316895,\n",
              " 5.959396839141846,\n",
              " 5.95881986618042,\n",
              " 5.958118438720703,\n",
              " 5.957339286804199,\n",
              " 5.956664562225342,\n",
              " 5.956038951873779,\n",
              " 5.955348014831543,\n",
              " 5.954773902893066,\n",
              " 5.954091548919678,\n",
              " 5.9533371925354,\n",
              " 5.952642917633057,\n",
              " 5.9519782066345215,\n",
              " 5.9513139724731445,\n",
              " 5.950554370880127,\n",
              " 5.949809551239014,\n",
              " 5.949057579040527,\n",
              " 5.948349475860596,\n",
              " 5.9477410316467285,\n",
              " 5.947188377380371,\n",
              " 5.946540355682373,\n",
              " 5.945809841156006,\n",
              " 5.945003509521484,\n",
              " 5.944315433502197,\n",
              " 5.94370174407959,\n",
              " 5.942983627319336,\n",
              " 5.942232131958008,\n",
              " 5.941606521606445,\n",
              " 5.9408769607543945,\n",
              " 5.9401655197143555,\n",
              " 5.939528942108154,\n",
              " 5.938770294189453,\n",
              " 5.937863826751709,\n",
              " 5.9371256828308105,\n",
              " 5.9365153312683105,\n",
              " 5.93582820892334,\n",
              " 5.935164928436279,\n",
              " 5.9343461990356445,\n",
              " 5.933650493621826,\n",
              " 5.932819843292236,\n",
              " 5.932122707366943,\n",
              " 5.931484222412109,\n",
              " 5.930749416351318,\n",
              " 5.930023670196533,\n",
              " 5.929203510284424,\n",
              " 5.928469181060791,\n",
              " 5.927711486816406,\n",
              " 5.926988124847412,\n",
              " 5.926332950592041,\n",
              " 5.925812244415283,\n",
              " 5.9251885414123535,\n",
              " 5.924466609954834,\n",
              " 5.92384672164917,\n",
              " 5.923177719116211,\n",
              " 5.922420501708984,\n",
              " 5.921709060668945,\n",
              " 5.920938491821289,\n",
              " 5.920186996459961,\n",
              " 5.9194655418396,\n",
              " 5.918386936187744,\n",
              " 5.917415142059326,\n",
              " 5.916702747344971,\n",
              " 5.916065692901611,\n",
              " 5.9153947830200195,\n",
              " 5.914786338806152,\n",
              " 5.914048671722412,\n",
              " 5.913331508636475,\n",
              " 5.912721157073975,\n",
              " 5.912138938903809,\n",
              " 5.911564826965332,\n",
              " 5.910956382751465,\n",
              " 5.9103217124938965,\n",
              " 5.909603118896484,\n",
              " 5.908939838409424,\n",
              " 5.908192157745361,\n",
              " 5.9074811935424805,\n",
              " 5.906732082366943,\n",
              " 5.906122207641602,\n",
              " 5.9054856300354,\n",
              " 5.904771327972412,\n",
              " 5.90411376953125,\n",
              " 5.903875827789307,\n",
              " 5.903266906738281,\n",
              " 5.902360439300537,\n",
              " 5.901782989501953,\n",
              " 5.9010796546936035,\n",
              " 5.900501728057861,\n",
              " 5.89987850189209,\n",
              " 5.899215221405029,\n",
              " 5.898647785186768,\n",
              " 5.897852897644043,\n",
              " 5.897136688232422,\n",
              " 5.896568775177002,\n",
              " 5.896029472351074]"
            ]
          },
          "metadata": {},
          "execution_count": 259
        }
      ]
    },
    {
      "cell_type": "code",
      "source": [
        "def plot_loss(loss_data1, loss_data2):\n",
        "  plt.figure(figsize = (12, 6))\n",
        "  plt.plot(loss_data1, color = 'g', label = 'Training Loss')\n",
        "  plt.plot(loss_data2, color = 'b', label = 'Validation Loss')\n",
        "  plt.legend()\n",
        "  plt.xlim(0, len(history.history['loss']))\n",
        "  plt.ylim(0, max(history.history['val_loss']))\n",
        "  plt.xlabel('Epoch')\n",
        "  plt.ylabel('Loss')\n",
        "  plt.grid(True)\n",
        "  plt.show()"
      ],
      "metadata": {
        "id": "15L5QgK_Wso7"
      },
      "execution_count": null,
      "outputs": []
    },
    {
      "cell_type": "code",
      "source": [
        "plot_loss(history.history['loss'], history.history['val_loss'])"
      ],
      "metadata": {
        "colab": {
          "base_uri": "https://localhost:8080/",
          "height": 543
        },
        "id": "Utp4k_e9YHoC",
        "outputId": "1083ff01-a40d-4d59-8c2e-f96f1bee0181"
      },
      "execution_count": null,
      "outputs": [
        {
          "output_type": "display_data",
          "data": {
            "text/plain": [
              "<Figure size 1200x600 with 1 Axes>"
            ],
            "image/png": "[encoded data removed]"
          },
          "metadata": {}
        }
      ]
    },
    {
      "cell_type": "code",
      "source": [
        "y_predict = model.predict(X_test_1D)"
      ],
      "metadata": {
        "colab": {
          "base_uri": "https://localhost:8080/"
        },
        "id": "-vdEhWQbYjQn",
        "outputId": "7bd3343d-556c-467d-bbc3-d4473cd8ab41"
      },
      "execution_count": null,
      "outputs": [
        {
          "output_type": "stream",
          "name": "stdout",
          "text": [
            "4/4 [==============================] - 0s 3ms/step\n"
          ]
        }
      ]
    },
    {
      "cell_type": "code",
      "source": [
        "y_predict"
      ],
      "metadata": {
        "colab": {
          "base_uri": "https://localhost:8080/"
        },
        "id": "2SkDW5Heazog",
        "outputId": "67e49aef-2207-4927-d90e-0680eac05edb"
      },
      "execution_count": null,
      "outputs": [
        {
          "output_type": "execute_result",
          "data": {
            "text/plain": [
              "array([[22.337004],\n",
              "       [20.526281],\n",
              "       [20.776514],\n",
              "       [21.697515],\n",
              "       [21.249178],\n",
              "       [20.571463],\n",
              "       [23.866213],\n",
              "       [21.40905 ],\n",
              "       [20.693104],\n",
              "       [22.34743 ],\n",
              "       [22.236216],\n",
              "       [21.07888 ],\n",
              "       [21.353443],\n",
              "       [27.192244],\n",
              "       [19.605278],\n",
              "       [21.203997],\n",
              "       [22.27792 ],\n",
              "       [21.329115],\n",
              "       [21.22485 ],\n",
              "       [21.270031],\n",
              "       [18.409714],\n",
              "       [20.262144],\n",
              "       [20.276047],\n",
              "       [19.455833],\n",
              "       [20.397688],\n",
              "       [21.669712],\n",
              "       [23.88359 ],\n",
              "       [23.358795],\n",
              "       [22.149328],\n",
              "       [20.404638],\n",
              "       [21.44033 ],\n",
              "       [23.723719],\n",
              "       [23.69939 ],\n",
              "       [21.680138],\n",
              "       [19.831184],\n",
              "       [17.35317 ],\n",
              "       [19.42803 ],\n",
              "       [20.401163],\n",
              "       [20.769564],\n",
              "       [23.035576],\n",
              "       [24.665573],\n",
              "       [23.00082 ],\n",
              "       [21.47161 ],\n",
              "       [26.6883  ],\n",
              "       [22.785341],\n",
              "       [21.360394],\n",
              "       [22.969542],\n",
              "       [20.070993],\n",
              "       [22.611567],\n",
              "       [21.461184],\n",
              "       [25.169518],\n",
              "       [20.098797],\n",
              "       [17.478287],\n",
              "       [20.178734],\n",
              "       [24.947086],\n",
              "       [23.018198],\n",
              "       [22.020735],\n",
              "       [28.811817],\n",
              "       [23.463058],\n",
              "       [22.291822],\n",
              "       [24.234613],\n",
              "       [22.465597],\n",
              "       [23.789753],\n",
              "       [20.89468 ],\n",
              "       [22.135426],\n",
              "       [21.203997],\n",
              "       [22.27792 ],\n",
              "       [21.555021],\n",
              "       [17.67639 ],\n",
              "       [20.783466],\n",
              "       [22.20146 ],\n",
              "       [24.154676],\n",
              "       [21.62453 ],\n",
              "       [18.792017],\n",
              "       [22.549007],\n",
              "       [20.859926],\n",
              "       [20.428968],\n",
              "       [22.13195 ],\n",
              "       [24.192907],\n",
              "       [16.936113],\n",
              "       [20.762613],\n",
              "       [26.111372],\n",
              "       [19.414127],\n",
              "       [22.514254],\n",
              "       [19.803381],\n",
              "       [21.426428],\n",
              "       [21.62453 ],\n",
              "       [20.65835 ],\n",
              "       [22.889605],\n",
              "       [24.516127],\n",
              "       [20.93291 ],\n",
              "       [20.425491],\n",
              "       [23.946148],\n",
              "       [28.679749],\n",
              "       [23.650734],\n",
              "       [21.252655],\n",
              "       [25.461458],\n",
              "       [30.49047 ],\n",
              "       [21.77745 ],\n",
              "       [27.091455],\n",
              "       [24.133825],\n",
              "       [21.179668]], dtype=float32)"
            ]
          },
          "metadata": {},
          "execution_count": 263
        }
      ]
    },
    {
      "cell_type": "code",
      "source": [
        "y_test"
      ],
      "metadata": {
        "colab": {
          "base_uri": "https://localhost:8080/"
        },
        "id": "mI5JqN8kviPZ",
        "outputId": "29f5ebc4-7fce-489b-f5ed-06d24c7d0d0d"
      },
      "execution_count": null,
      "outputs": [
        {
          "output_type": "execute_result",
          "data": {
            "text/plain": [
              "array([ 7.2, 18.8, 19. , 27. , 22.2, 24.5, 31.2, 22.9, 20.5, 23.2, 18.6,\n",
              "       14.5, 17.8, 50. , 20.8, 24.3, 24.2, 19.8, 19.1, 22.7, 12. , 10.2,\n",
              "       20. , 18.5, 20.9, 23. , 27.5, 30.1,  9.5, 22. , 21.2, 14.1, 33.1,\n",
              "       23.4, 20.1,  7.4, 15.4, 23.8, 20.1, 24.5, 33. , 28.4, 14.1, 46.7,\n",
              "       32.5, 29.6, 28.4, 19.8, 20.2, 25. , 35.4, 20.3,  9.7, 14.5, 34.9,\n",
              "       26.6,  7.2, 50. , 32.4, 21.6, 29.8, 13.1, 27.5, 21.2, 23.1, 21.9,\n",
              "       13. , 23.2,  8.1,  5.6, 21.7, 29.6, 19.6,  7. , 26.4, 18.9, 20.9,\n",
              "       28.1, 35.4, 10.2, 24.3, 43.1, 17.6, 15.4, 16.2, 27.1, 21.4, 21.5,\n",
              "       22.4, 25. , 16.6, 18.6, 22. , 42.8, 35.1, 21.5, 36. , 21.9, 24.1,\n",
              "       50. , 26.7, 25. ])"
            ]
          },
          "metadata": {},
          "execution_count": 264
        }
      ]
    },
    {
      "cell_type": "code",
      "source": [
        "test_rooms = [i for i in range(1, 50)]\n",
        "print(test_rooms)"
      ],
      "metadata": {
        "colab": {
          "base_uri": "https://localhost:8080/"
        },
        "id": "yF-Mjf5qa1Kx",
        "outputId": "71f02956-6d5a-4d1f-81c1-fe354d353fd2"
      },
      "execution_count": null,
      "outputs": [
        {
          "output_type": "stream",
          "name": "stdout",
          "text": [
            "[1, 2, 3, 4, 5, 6, 7, 8, 9, 10, 11, 12, 13, 14, 15, 16, 17, 18, 19, 20, 21, 22, 23, 24, 25, 26, 27, 28, 29, 30, 31, 32, 33, 34, 35, 36, 37, 38, 39, 40, 41, 42, 43, 44, 45, 46, 47, 48, 49]\n"
          ]
        }
      ]
    },
    {
      "cell_type": "code",
      "source": [
        "predictions = model.predict(test_rooms)\n",
        "predictions"
      ],
      "metadata": {
        "colab": {
          "base_uri": "https://localhost:8080/"
        },
        "id": "B3LtbyPicxR2",
        "outputId": "2346f90a-f455-4948-acb5-f600ccce05cd"
      },
      "execution_count": null,
      "outputs": [
        {
          "output_type": "stream",
          "name": "stdout",
          "text": [
            "2/2 [==============================] - 0s 4ms/step\n"
          ]
        },
        {
          "output_type": "execute_result",
          "data": {
            "text/plain": [
              "array([[  3.4512632],\n",
              "       [  6.92674  ],\n",
              "       [ 10.402216 ],\n",
              "       [ 13.877693 ],\n",
              "       [ 17.35317  ],\n",
              "       [ 20.828646 ],\n",
              "       [ 24.304123 ],\n",
              "       [ 27.7796   ],\n",
              "       [ 31.255077 ],\n",
              "       [ 34.730556 ],\n",
              "       [ 38.20603  ],\n",
              "       [ 41.681507 ],\n",
              "       [ 45.156986 ],\n",
              "       [ 48.63246  ],\n",
              "       [ 52.10794  ],\n",
              "       [ 55.583416 ],\n",
              "       [ 59.05889  ],\n",
              "       [ 62.53437  ],\n",
              "       [ 66.00984  ],\n",
              "       [ 69.48532  ],\n",
              "       [ 72.96079  ],\n",
              "       [ 76.43627  ],\n",
              "       [ 79.91175  ],\n",
              "       [ 83.38722  ],\n",
              "       [ 86.8627   ],\n",
              "       [ 90.33818  ],\n",
              "       [ 93.81366  ],\n",
              "       [ 97.28913  ],\n",
              "       [100.76461  ],\n",
              "       [104.24009  ],\n",
              "       [107.71556  ],\n",
              "       [111.19104  ],\n",
              "       [114.66652  ],\n",
              "       [118.14199  ],\n",
              "       [121.61747  ],\n",
              "       [125.09295  ],\n",
              "       [128.56842  ],\n",
              "       [132.0439   ],\n",
              "       [135.51938  ],\n",
              "       [138.99486  ],\n",
              "       [142.47034  ],\n",
              "       [145.9458   ],\n",
              "       [149.42128  ],\n",
              "       [152.89676  ],\n",
              "       [156.37224  ],\n",
              "       [159.84772  ],\n",
              "       [163.3232   ],\n",
              "       [166.79866  ],\n",
              "       [170.27414  ]], dtype=float32)"
            ]
          },
          "metadata": {},
          "execution_count": 266
        }
      ]
    },
    {
      "cell_type": "code",
      "source": [
        "for idx in range(len(test_rooms)):\n",
        "  print(f'Predicted Price of {test_rooms[idx]} rooms: ${int(predictions[idx])}K')"
      ],
      "metadata": {
        "colab": {
          "base_uri": "https://localhost:8080/"
        },
        "id": "KT_sihrdcD-s",
        "outputId": "6c87c636-4942-4a86-e8fa-ff790f2604b8"
      },
      "execution_count": null,
      "outputs": [
        {
          "output_type": "stream",
          "name": "stdout",
          "text": [
            "Predicted Price of 1 rooms: $3K\n",
            "Predicted Price of 2 rooms: $6K\n",
            "Predicted Price of 3 rooms: $10K\n",
            "Predicted Price of 4 rooms: $13K\n",
            "Predicted Price of 5 rooms: $17K\n",
            "Predicted Price of 6 rooms: $20K\n",
            "Predicted Price of 7 rooms: $24K\n",
            "Predicted Price of 8 rooms: $27K\n",
            "Predicted Price of 9 rooms: $31K\n",
            "Predicted Price of 10 rooms: $34K\n",
            "Predicted Price of 11 rooms: $38K\n",
            "Predicted Price of 12 rooms: $41K\n",
            "Predicted Price of 13 rooms: $45K\n",
            "Predicted Price of 14 rooms: $48K\n",
            "Predicted Price of 15 rooms: $52K\n",
            "Predicted Price of 16 rooms: $55K\n",
            "Predicted Price of 17 rooms: $59K\n",
            "Predicted Price of 18 rooms: $62K\n",
            "Predicted Price of 19 rooms: $66K\n",
            "Predicted Price of 20 rooms: $69K\n",
            "Predicted Price of 21 rooms: $72K\n",
            "Predicted Price of 22 rooms: $76K\n",
            "Predicted Price of 23 rooms: $79K\n",
            "Predicted Price of 24 rooms: $83K\n",
            "Predicted Price of 25 rooms: $86K\n",
            "Predicted Price of 26 rooms: $90K\n",
            "Predicted Price of 27 rooms: $93K\n",
            "Predicted Price of 28 rooms: $97K\n",
            "Predicted Price of 29 rooms: $100K\n",
            "Predicted Price of 30 rooms: $104K\n",
            "Predicted Price of 31 rooms: $107K\n",
            "Predicted Price of 32 rooms: $111K\n",
            "Predicted Price of 33 rooms: $114K\n",
            "Predicted Price of 34 rooms: $118K\n",
            "Predicted Price of 35 rooms: $121K\n",
            "Predicted Price of 36 rooms: $125K\n",
            "Predicted Price of 37 rooms: $128K\n",
            "Predicted Price of 38 rooms: $132K\n",
            "Predicted Price of 39 rooms: $135K\n",
            "Predicted Price of 40 rooms: $138K\n",
            "Predicted Price of 41 rooms: $142K\n",
            "Predicted Price of 42 rooms: $145K\n",
            "Predicted Price of 43 rooms: $149K\n",
            "Predicted Price of 44 rooms: $152K\n",
            "Predicted Price of 45 rooms: $156K\n",
            "Predicted Price of 46 rooms: $159K\n",
            "Predicted Price of 47 rooms: $163K\n",
            "Predicted Price of 48 rooms: $166K\n",
            "Predicted Price of 49 rooms: $170K\n"
          ]
        }
      ]
    },
    {
      "cell_type": "code",
      "source": [
        "xx_p = np.linspace(3, 9, 10)\n",
        "xx_p"
      ],
      "metadata": {
        "colab": {
          "base_uri": "https://localhost:8080/"
        },
        "id": "j8O0f3xvhrMc",
        "outputId": "2c644c90-2fae-4a9a-e24f-dbc558c2229e"
      },
      "execution_count": null,
      "outputs": [
        {
          "output_type": "execute_result",
          "data": {
            "text/plain": [
              "array([3.        , 3.66666667, 4.33333333, 5.        , 5.66666667,\n",
              "       6.33333333, 7.        , 7.66666667, 8.33333333, 9.        ])"
            ]
          },
          "metadata": {},
          "execution_count": 268
        }
      ]
    },
    {
      "cell_type": "code",
      "source": [
        "yy_predict = model.predict(xx_p)\n",
        "yy_predict"
      ],
      "metadata": {
        "colab": {
          "base_uri": "https://localhost:8080/"
        },
        "id": "hSYOB55rhysR",
        "outputId": "85f86229-10cb-4b13-d136-722427d39a2d"
      },
      "execution_count": null,
      "outputs": [
        {
          "output_type": "stream",
          "name": "stdout",
          "text": [
            "1/1 [==============================] - 0s 29ms/step\n"
          ]
        },
        {
          "output_type": "execute_result",
          "data": {
            "text/plain": [
              "array([[10.402216],\n",
              "       [12.719201],\n",
              "       [15.036186],\n",
              "       [17.35317 ],\n",
              "       [19.670155],\n",
              "       [21.987139],\n",
              "       [24.304123],\n",
              "       [26.621107],\n",
              "       [28.938091],\n",
              "       [31.255077]], dtype=float32)"
            ]
          },
          "metadata": {},
          "execution_count": 269
        }
      ]
    },
    {
      "cell_type": "code",
      "source": [
        "def plot_test():\n",
        "  plt.figure(figsize = (15, 6))\n",
        "  plt.plot(xx_p, yy_predict, color = 'k', label = 'Model Prediction')\n",
        "  plt.scatter(X_test_1D, y_predict, color = 'r',label = 'Predicted Test Data', alpha = 0.7)\n",
        "  plt.scatter(X_test_1D, y_test, color = 'b',label = 'Ground Truth Data', alpha = 0.7)\n",
        "  plt.xlabel('Available Number of Rooms')\n",
        "  plt.ylabel('Median Price [$K]')\n",
        "  plt.legend()\n",
        "  plt.grid(True)\n",
        "  plt.show()"
      ],
      "metadata": {
        "id": "qmKqApDwdcKg"
      },
      "execution_count": null,
      "outputs": []
    },
    {
      "cell_type": "code",
      "source": [
        "plot_test()"
      ],
      "metadata": {
        "colab": {
          "base_uri": "https://localhost:8080/",
          "height": 542
        },
        "id": "EBPq1bvTiCAm",
        "outputId": "feaf65ff-3fce-4b8c-e2ec-144e6af0c313"
      },
      "execution_count": null,
      "outputs": [
        {
          "output_type": "display_data",
          "data": {
            "text/plain": [
              "<Figure size 1500x600 with 1 Axes>"
            ],
            "image/png": "[encoded data removed]"
          },
          "metadata": {}
        }
      ]
    },
    {
      "cell_type": "code",
      "source": [],
      "metadata": {
        "id": "8K08ssEsiEbK"
      },
      "execution_count": null,
      "outputs": []
    }
  ]
}